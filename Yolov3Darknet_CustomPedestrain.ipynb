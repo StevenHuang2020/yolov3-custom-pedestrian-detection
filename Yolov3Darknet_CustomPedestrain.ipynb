{
  "nbformat": 4,
  "nbformat_minor": 0,
  "metadata": {
    "colab": {
      "name": "Yolov3Darknet_CustomPedestrain",
      "provenance": [],
      "collapsed_sections": []
    },
    "kernelspec": {
      "name": "python3",
      "display_name": "Python 3"
    },
    "accelerator": "GPU"
  },
  "cells": [
    {
      "cell_type": "markdown",
      "metadata": {
        "id": "wZBBAoLH0YGg",
        "colab_type": "text"
      },
      "source": [
        "\n",
        "\n",
        "```\n",
        "# This is formatted as code\n",
        "```\n",
        "\n",
        "# darknet gpu complie"
      ]
    },
    {
      "cell_type": "code",
      "metadata": {
        "id": "LJZRcEw0LoBd",
        "colab_type": "code",
        "colab": {}
      },
      "source": [
        "# This cell imports the drive library and mounts your Google Drive as a VM local drive. You can access to your Drive files \n",
        "# using this path \"/content/gdrive/My Drive/\"\n",
        "\n",
        "from google.colab import drive\n",
        "drive.mount('/content/gdrive')"
      ],
      "execution_count": 0,
      "outputs": []
    },
    {
      "cell_type": "code",
      "metadata": {
        "id": "hpuy1Ldk4rPp",
        "colab_type": "code",
        "colab": {}
      },
      "source": [
        "!ls -la \"/content/gdrive/My Drive\""
      ],
      "execution_count": 0,
      "outputs": []
    },
    {
      "cell_type": "code",
      "metadata": {
        "id": "Cz4jmzvv7oEl",
        "colab_type": "code",
        "colab": {}
      },
      "source": [
        "!/usr/local/cuda/bin/nvcc --version"
      ],
      "execution_count": 0,
      "outputs": []
    },
    {
      "cell_type": "code",
      "metadata": {
        "id": "lJ4Xn9H3_tMV",
        "colab_type": "code",
        "colab": {}
      },
      "source": [
        "!pwd"
      ],
      "execution_count": 0,
      "outputs": []
    },
    {
      "cell_type": "code",
      "metadata": {
        "id": "BTnWzNjwAOh8",
        "colab_type": "code",
        "colab": {}
      },
      "source": [
        "%cd \"/content/gdrive/My Drive/darknet\""
      ],
      "execution_count": 0,
      "outputs": []
    },
    {
      "cell_type": "code",
      "metadata": {
        "id": "BhVwtoa5kTbu",
        "colab_type": "code",
        "colab": {}
      },
      "source": [
        "!git clone https://github.com/pjreddie/darknet"
      ],
      "execution_count": 0,
      "outputs": []
    },
    {
      "cell_type": "code",
      "metadata": {
        "id": "KoGftuVFk0f0",
        "colab_type": "code",
        "colab": {}
      },
      "source": [
        "%cd darknet/"
      ],
      "execution_count": 0,
      "outputs": []
    },
    {
      "cell_type": "code",
      "metadata": {
        "id": "yNuxzs0r-DeE",
        "colab_type": "code",
        "colab": {}
      },
      "source": [
        "!pwd"
      ],
      "execution_count": 0,
      "outputs": []
    },
    {
      "cell_type": "code",
      "metadata": {
        "id": "8fhtD0egk4qL",
        "colab_type": "code",
        "colab": {}
      },
      "source": [
        "!sed -i 's/OPENCV=1/OPENCV=1/' Makefile"
      ],
      "execution_count": 0,
      "outputs": []
    },
    {
      "cell_type": "code",
      "metadata": {
        "id": "N5F__e6HlmVt",
        "colab_type": "code",
        "colab": {}
      },
      "source": [
        "!sed -i 's/GPU=0/GPU=1/' Makefile"
      ],
      "execution_count": 0,
      "outputs": []
    },
    {
      "cell_type": "code",
      "metadata": {
        "id": "kjH8Uu8IlrEb",
        "colab_type": "code",
        "colab": {}
      },
      "source": [
        "!sed -i 's/CUDNN=0/CUDNN=1/' Makefile"
      ],
      "execution_count": 0,
      "outputs": []
    },
    {
      "cell_type": "code",
      "metadata": {
        "id": "P7ImST3BlwOL",
        "colab_type": "code",
        "colab": {}
      },
      "source": [
        "!/usr/local/cuda/bin/nvcc --version"
      ],
      "execution_count": 0,
      "outputs": []
    },
    {
      "cell_type": "code",
      "metadata": {
        "id": "9Gpr94OY4w8p",
        "colab_type": "code",
        "colab": {}
      },
      "source": [
        "!cat Makefile"
      ],
      "execution_count": 0,
      "outputs": []
    },
    {
      "cell_type": "code",
      "metadata": {
        "id": "1VHfy11Cl9v8",
        "colab_type": "code",
        "colab": {}
      },
      "source": [
        "!make"
      ],
      "execution_count": 0,
      "outputs": []
    },
    {
      "cell_type": "code",
      "metadata": {
        "id": "T87MtiJ91AQl",
        "colab_type": "code",
        "colab": {}
      },
      "source": [
        "!./darknet"
      ],
      "execution_count": 0,
      "outputs": []
    },
    {
      "cell_type": "code",
      "metadata": {
        "id": "Og5_wTCp1Ela",
        "colab_type": "code",
        "colab": {}
      },
      "source": [
        "!./darknet detect cfg/yolov3.cfg yolov3.weights data/dog.jpg"
      ],
      "execution_count": 0,
      "outputs": []
    },
    {
      "cell_type": "markdown",
      "metadata": {
        "id": "uQ-3pjqHuw8I",
        "colab_type": "text"
      },
      "source": [
        "# darknet_gpu_training"
      ]
    },
    {
      "cell_type": "code",
      "metadata": {
        "id": "FpVrDCnXvIvR",
        "colab_type": "code",
        "colab": {}
      },
      "source": [
        "!pwd\n",
        "%cd \"/content/drive/My Drive\"\n",
        "!ls -ll"
      ],
      "execution_count": 0,
      "outputs": []
    },
    {
      "cell_type": "code",
      "metadata": {
        "id": "bXHOAHPOvhLQ",
        "colab_type": "code",
        "colab": {}
      },
      "source": [
        "%cd trainPennFudan\n",
        "!pwd"
      ],
      "execution_count": 0,
      "outputs": []
    },
    {
      "cell_type": "code",
      "metadata": {
        "id": "ckSKaj5Vvqp5",
        "colab_type": "code",
        "colab": {}
      },
      "source": [
        "%cd images\n"
      ],
      "execution_count": 0,
      "outputs": []
    },
    {
      "cell_type": "code",
      "metadata": {
        "id": "V-dj5z-dyO5j",
        "colab_type": "code",
        "colab": {}
      },
      "source": [
        "!ls -ll"
      ],
      "execution_count": 0,
      "outputs": []
    },
    {
      "cell_type": "code",
      "metadata": {
        "id": "oapacC1ev0-O",
        "colab_type": "code",
        "colab": {}
      },
      "source": [
        "!find /content/drive/My\\ Drive/trainPennFudan/images/test_PNGImages -name \\*.png > test.list"
      ],
      "execution_count": 0,
      "outputs": []
    },
    {
      "cell_type": "code",
      "metadata": {
        "id": "mlIT5z_DwDuQ",
        "colab_type": "code",
        "colab": {}
      },
      "source": [
        "!find /content/drive/My\\ Drive/trainPennFudan/images/train_PNGImages -name \\*.png > train.list"
      ],
      "execution_count": 0,
      "outputs": []
    },
    {
      "cell_type": "code",
      "metadata": {
        "id": "K19fwcn8wMeZ",
        "colab_type": "code",
        "colab": {}
      },
      "source": [
        "%cd ../\n",
        "!ls -ll"
      ],
      "execution_count": 0,
      "outputs": []
    },
    {
      "cell_type": "code",
      "metadata": {
        "id": "CzGYMIKdwOwA",
        "colab_type": "code",
        "colab": {}
      },
      "source": [
        "!../darknet/darknet\n",
        "!chmod 755 ../darknet/darknet"
      ],
      "execution_count": 0,
      "outputs": []
    },
    {
      "cell_type": "code",
      "metadata": {
        "id": "WDGJA3Eowin5",
        "colab_type": "code",
        "colab": {}
      },
      "source": [
        "!ls -ll"
      ],
      "execution_count": 0,
      "outputs": []
    },
    {
      "cell_type": "code",
      "metadata": {
        "id": "MQOAWQVr5FkE",
        "colab_type": "code",
        "colab": {}
      },
      "source": [
        "!../darknet/darknet detector train ./PennFudanTiny.data ./PF_yolov3-tiny.cfg ./darknet53.conv.74"
      ],
      "execution_count": 0,
      "outputs": []
    },
    {
      "cell_type": "code",
      "metadata": {
        "id": "4cwMPlda5HNi",
        "colab_type": "code",
        "colab": {}
      },
      "source": [
        "!../darknet/darknet detector train ./PennFudanTiny.data ./PF_yolov3-tiny.cfg ./backupTiny/PF_yolov3-tiny.backup"
      ],
      "execution_count": 0,
      "outputs": []
    },
    {
      "cell_type": "code",
      "metadata": {
        "id": "phxju2NO8FHp",
        "colab_type": "code",
        "colab": {}
      },
      "source": [
        "!../darknet/darknet detector train ./PennFudanTiny.data ./PF_yolov3-tiny.cfg ./darknet53.conv.74 >> log/PennFudanTiny.log"
      ],
      "execution_count": 0,
      "outputs": []
    },
    {
      "cell_type": "code",
      "metadata": {
        "id": "TsL4vGo2r9ly",
        "colab_type": "code",
        "colab": {}
      },
      "source": [
        "!../darknet/darknet detector train ./PennFudanTiny.data ./PF_yolov3-tiny.cfg ./backupTiny/PF_yolov3-tiny.backup >> log/PennFudanTiny.log"
      ],
      "execution_count": 0,
      "outputs": []
    },
    {
      "cell_type": "markdown",
      "metadata": {
        "id": "9QSBFABqagDG",
        "colab_type": "text"
      },
      "source": [
        "# darknet_gpu_training_EX"
      ]
    },
    {
      "cell_type": "code",
      "metadata": {
        "id": "Vcqq8NL1avoD",
        "colab_type": "code",
        "colab": {}
      },
      "source": [
        "!pwd\n",
        "%cd \"/content/drive/My Drive\""
      ],
      "execution_count": 0,
      "outputs": []
    },
    {
      "cell_type": "code",
      "metadata": {
        "id": "l1S9j453aycM",
        "colab_type": "code",
        "colab": {}
      },
      "source": [
        "%cd trainPennFudanExt\n",
        "!pwd"
      ],
      "execution_count": 0,
      "outputs": []
    },
    {
      "cell_type": "code",
      "metadata": {
        "id": "yu_OgS9Na5Kl",
        "colab_type": "code",
        "colab": {}
      },
      "source": [
        "%cd images"
      ],
      "execution_count": 0,
      "outputs": []
    },
    {
      "cell_type": "code",
      "metadata": {
        "id": "GV1B6aoCa8Gr",
        "colab_type": "code",
        "colab": {}
      },
      "source": [
        "!find /content/drive/My\\ Drive/trainPennFudanExt/images/test_PNGImages -name \\*.png > test.list"
      ],
      "execution_count": 0,
      "outputs": []
    },
    {
      "cell_type": "code",
      "metadata": {
        "id": "FPiarEg3a-sV",
        "colab_type": "code",
        "colab": {}
      },
      "source": [
        "!find /content/drive/My\\ Drive/trainPennFudanExt/images/train_PNGImages -name \\*.png > train.list"
      ],
      "execution_count": 0,
      "outputs": []
    },
    {
      "cell_type": "code",
      "metadata": {
        "id": "EuEK5NozbEP8",
        "colab_type": "code",
        "colab": {}
      },
      "source": [
        "%cd ../\n",
        "!ls -ll"
      ],
      "execution_count": 0,
      "outputs": []
    },
    {
      "cell_type": "code",
      "metadata": {
        "id": "FffaXYf758Wn",
        "colab_type": "code",
        "colab": {}
      },
      "source": [
        "!../darknet/darknet detector train ./PennFudanTiny.data ./PF_yolov3-tiny.cfg ./darknet53.conv.74"
      ],
      "execution_count": 0,
      "outputs": []
    },
    {
      "cell_type": "code",
      "metadata": {
        "id": "5ywHWao-59vK",
        "colab_type": "code",
        "colab": {}
      },
      "source": [
        "!../darknet/darknet detector train ./PennFudanTiny.data ./PF_yolov3-tiny.cfg ./backupTiny/PF_yolov3-tiny.backup"
      ],
      "execution_count": 0,
      "outputs": []
    },
    {
      "cell_type": "code",
      "metadata": {
        "id": "KI6HCPo9bKIU",
        "colab_type": "code",
        "colab": {}
      },
      "source": [
        "!../darknet/darknet detector train ./PennFudanTiny.data ./PF_yolov3-tiny.cfg ./darknet53.conv.74 >> log/PennFudanTiny.log"
      ],
      "execution_count": 0,
      "outputs": []
    },
    {
      "cell_type": "code",
      "metadata": {
        "id": "VG_WMUhez5Ks",
        "colab_type": "code",
        "colab": {}
      },
      "source": [
        "!../darknet/darknet detector train ./PennFudanTiny.data ./PF_yolov3-tiny.cfg ./backupTiny/PF_yolov3-tiny.backup >> log/PennFudanTiny.log"
      ],
      "execution_count": 0,
      "outputs": []
    }
  ]
}